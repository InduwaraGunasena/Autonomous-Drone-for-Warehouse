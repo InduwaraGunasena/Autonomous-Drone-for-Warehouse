{
  "nbformat": 4,
  "nbformat_minor": 0,
  "metadata": {
    "colab": {
      "provenance": [],
      "mount_file_id": "1_UAzR0SOoS8zTThxWMidXncwg4z4VF6f",
      "authorship_tag": "ABX9TyMdy7BHrGGUtLNxCDyj69kn",
      "include_colab_link": true
    },
    "kernelspec": {
      "name": "python3",
      "display_name": "Python 3"
    },
    "language_info": {
      "name": "python"
    }
  },
  "cells": [
    {
      "cell_type": "markdown",
      "metadata": {
        "id": "view-in-github",
        "colab_type": "text"
      },
      "source": [
        "<a href=\"https://colab.research.google.com/github/InduwaraGunasena/Autonomous-Drone-for-Warehouse/blob/main/Visualize_Dataset.ipynb\" target=\"_parent\"><img src=\"https://colab.research.google.com/assets/colab-badge.svg\" alt=\"Open In Colab\"/></a>"
      ]
    },
    {
      "cell_type": "markdown",
      "source": [
        "# **Visualizing Dataset**\n",
        "\n",
        "In this code file, we compare our dataset in more depth manually. Because we need to ensure we have a better data set before going into train our model.\n",
        "\n",
        "## **Imports libraries**"
      ],
      "metadata": {
        "id": "QRhFX5FjG3BQ"
      }
    },
    {
      "cell_type": "code",
      "source": [
        "import os\n",
        "import numpy as np\n",
        "import cv2\n",
        "from tqdm import tqdm"
      ],
      "metadata": {
        "id": "JJZPh0glHB4s"
      },
      "execution_count": 1,
      "outputs": []
    },
    {
      "cell_type": "markdown",
      "source": [
        "## **Load all the image names**"
      ],
      "metadata": {
        "id": "uHMAAzLoKe8i"
      }
    },
    {
      "cell_type": "code",
      "source": [
        "image_names = sorted(os.listdir('/content/drive/MyDrive/Colab Notebooks/img'))"
      ],
      "metadata": {
        "id": "lcZ3hTWRKl5R"
      },
      "execution_count": 7,
      "outputs": []
    },
    {
      "cell_type": "code",
      "source": [
        "print(image_names)"
      ],
      "metadata": {
        "colab": {
          "base_uri": "https://localhost:8080/"
        },
        "id": "8zMg7X-OLLcj",
        "outputId": "a601a085-9437-4658-c955-2ebd6972893f"
      },
      "execution_count": 8,
      "outputs": [
        {
          "output_type": "stream",
          "name": "stdout",
          "text": [
            "['1.jpg', '10.jpg', '11.jpg', '12.jpg', '13.jpg', '14.jpg', '15.jpg', '16.jpg', '17.jpg', '18.jpg', '19.jpg', '2.jpg', '20.jpg', '21.jpg', '22.jpg', '23.jpg', '24.jpg', '25.jpg', '26.jpg', '27.jpg', '28.jpg', '29.jpg', '3.jpg', '30.jpg', '31.jpg', '32.jpg', '33.jpg', '34.jpg', '35.jpg', '36.jpg', '37.jpg', '38.jpg', '39.jpg', '4.jpg', '40.jpg', '41.jpg', '42.jpg', '43.jpg', '44.jpg', '45.jpg', '46.jpg', '47.jpg', '48.jpg', '49.jpg', '5.jpg', '50.jpg', '6.jpg', '7.jpg', '8.jpg', '9.jpg']\n"
          ]
        }
      ]
    },
    {
      "cell_type": "markdown",
      "source": [
        "## **Loop over the name & store the result**\n"
      ],
      "metadata": {
        "id": "vTw1cnp5KmaQ"
      }
    },
    {
      "cell_type": "code",
      "source": [
        "for name in tqdm(image_names):\n",
        "  image_path = f\"/content/drive/MyDrive/Colab Notebooks/img/{name}\"\n",
        "  mask_path = f\"/content/drive/MyDrive/Colab Notebooks/masks/{name}\"\n",
        "\n",
        "  x = cv2.imread(image_path, cv2.IMREAD_COLOR)\n",
        "  y = cv2.imread(mask_path, cv2.IMREAD_COLOR)\n",
        "\n",
        "  line = np.ones((10, x.shape[1], 3)) * 255.0\n",
        "\n",
        "  foreground_img = x*(y/255.0)\n",
        "  background_img = x*(1.0-(y/255.0))\n",
        "\n",
        "  cat_img = np.concatenate((x, line, y, line, foreground_img, line, background_img), axis=0)\n",
        "  cv2.imwrite(f\"/content/drive/MyDrive/Colab Notebooks/result/{name}\", cat_img)"
      ],
      "metadata": {
        "colab": {
          "base_uri": "https://localhost:8080/"
        },
        "id": "ngBBQp2xK2kA",
        "outputId": "9de19636-5a46-4bd8-af43-4ea0ae0d3b97"
      },
      "execution_count": 19,
      "outputs": [
        {
          "output_type": "stream",
          "name": "stderr",
          "text": [
            "100%|██████████| 50/50 [00:03<00:00, 15.37it/s]\n"
          ]
        }
      ]
    }
  ]
}